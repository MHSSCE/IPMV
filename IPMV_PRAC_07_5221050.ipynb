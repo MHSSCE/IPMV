{
  "nbformat": 4,
  "nbformat_minor": 0,
  "metadata": {
    "colab": {
      "name": "IPMV_PRAC_07_5221050.ipynb",
      "provenance": [],
      "collapsed_sections": [],
      "include_colab_link": true
    },
    "kernelspec": {
      "name": "python3",
      "display_name": "Python 3"
    },
    "language_info": {
      "name": "python"
    }
  },
  "cells": [
    {
      "cell_type": "markdown",
      "metadata": {
        "id": "view-in-github",
        "colab_type": "text"
      },
      "source": [
        "<a href=\"https://colab.research.google.com/github/MHSSCE/IPMV/blob/main/IPMV_PRAC_07_5221050.ipynb\" target=\"_parent\"><img src=\"https://colab.research.google.com/assets/colab-badge.svg\" alt=\"Open In Colab\"/></a>"
      ]
    },
    {
      "cell_type": "markdown",
      "source": [
        "MEHBOOB MEGHANI\n",
        "\n",
        "5221050\n",
        "\n",
        "46"
      ],
      "metadata": {
        "id": "u4jzEBEij3En"
      }
    },
    {
      "cell_type": "code",
      "source": [
        "import cv2\n",
        "import numpy as np\n",
        "import random\n",
        "from google.colab.patches import cv2_imshow\n",
        "import matplotlib.pyplot as plt\n",
        "from io import BytesIO\n",
        "from PIL import Image\n",
        "from google.colab import files\n",
        "from skimage import color\n",
        "from skimage import io\n",
        "#uploaded = files.upload()\n",
        "from PIL import ImageDraw\n",
        "from PIL import ImageFont\n",
        "from skimage.util import random_noise\n",
        "figsize=(10,10)"
      ],
      "metadata": {
        "id": "YtkY7aALgWpc"
      },
      "execution_count": 1,
      "outputs": []
    },
    {
      "cell_type": "code",
      "source": [
        "img=np.zeros([256,256])\n",
        "img[20:60,20:60]=1;\n",
        "img[70:100,70:111]=1;\n",
        "\n",
        "img[150:200,153:180]=1;\n",
        "\n",
        "img[10:25,200:220]=1;\n",
        "\n",
        "\n",
        "plt.figure(figsize=figsize)\n",
        "plt.imshow(img,cmap=\"gray\",vmin=0, vmax=1)\n",
        "plt.title(\"Original image\")\n",
        "plt.show()"
      ],
      "metadata": {
        "colab": {
          "base_uri": "https://localhost:8080/",
          "height": 607
        },
        "id": "82U6hk9jgw__",
        "outputId": "cd25b4eb-5d63-4b23-e27f-18c4cd1241fc"
      },
      "execution_count": 2,
      "outputs": [
        {
          "output_type": "display_data",
          "data": {
            "text/plain": [
              "<Figure size 720x720 with 1 Axes>"
            ],
            "image/png": "[encoded data removed]"
          },
          "metadata": {
            "needs_background": "light"
          }
        }
      ]
    },
    {
      "cell_type": "markdown",
      "source": [
        "EROSION"
      ],
      "metadata": {
        "id": "IFQnvHKYhT4i"
      }
    },
    {
      "cell_type": "code",
      "source": [
        "m=img.shape[0]\n",
        "n=img.shape[1]\n",
        "mask=np.array([[1,1,1],[1,1,1],[1,1,1]])\n",
        "img_new=np.zeros([m,n])\n",
        "for i in range (1,m-1):\n",
        "  for j in range(1,n-1):\n",
        "    temp=[img[i-1, j-1]*mask[0, 0],img[i-1, j]*mask[0, 1],img[i-1, j + 1]*mask[0, 2],img[i, j-1]*mask[1, 0], img[i, j]*mask[1, 1],img[i, j + 1]*mask[1, 2],img[i + 1, j-1]*mask[2, 0],img[i + 1, j]*mask[2, 1],img[i + 1, j + 1]*mask[2, 2]]\n",
        "    img_new[i,j]=min(temp)\n",
        "\n",
        "plt.figure(figsize=figsize)\n",
        "plt.imshow(img_new,cmap='gray',vmin=0,vmax=1)\n",
        "plt.title('EROSION')\n",
        "plt.show()"
      ],
      "metadata": {
        "colab": {
          "base_uri": "https://localhost:8080/",
          "height": 607
        },
        "id": "XWQrr8HuhGyn",
        "outputId": "5591989a-b4a1-4200-ba11-7efd115d26b3"
      },
      "execution_count": 3,
      "outputs": [
        {
          "output_type": "display_data",
          "data": {
            "text/plain": [
              "<Figure size 720x720 with 1 Axes>"
            ],
            "image/png": "[encoded data removed]"
          },
          "metadata": {
            "needs_background": "light"
          }
        }
      ]
    },
    {
      "cell_type": "markdown",
      "source": [
        "BOUNDARY EXTRACTION: (IMAGE-EROEDED IMAGE)"
      ],
      "metadata": {
        "id": "2UbGt_nCheCK"
      }
    },
    {
      "cell_type": "code",
      "source": [
        "m=img.shape[0]\n",
        "n=img.shape[1]\n",
        "mask=np.array([[1,1,1],[1,1,1],[1,1,1]])\n",
        "img_new=np.zeros([m,n])\n",
        "for i in range (1,m-1):\n",
        "  for j in range(1,n-1):\n",
        "    temp=[img[i-1, j-1]*mask[0, 0],img[i-1, j]*mask[0, 1],img[i-1, j + 1]*mask[0, 2],img[i, j-1]*mask[1, 0], img[i, j]*mask[1, 1],img[i, j + 1]*mask[1, 2],img[i + 1, j-1]*mask[2, 0],img[i + 1, j]*mask[2, 1],img[i + 1, j + 1]*mask[2, 2]]\n",
        "    img_new[i,j]=min(temp)\n",
        "bd_img=img-img_new    \n",
        "\n",
        "plt.figure(figsize=figsize)\n",
        "plt.imshow(bd_img,cmap='gray',vmin=0,vmax=1)\n",
        "plt.title('Boundry extraction')\n",
        "plt.show()"
      ],
      "metadata": {
        "colab": {
          "base_uri": "https://localhost:8080/",
          "height": 607
        },
        "id": "roxa_Ze2hfA7",
        "outputId": "6e4812fb-5bed-4785-8e64-82d4c23c798c"
      },
      "execution_count": 4,
      "outputs": [
        {
          "output_type": "display_data",
          "data": {
            "text/plain": [
              "<Figure size 720x720 with 1 Axes>"
            ],
            "image/png": "[encoded data removed]"
          },
          "metadata": {
            "needs_background": "light"
          }
        }
      ]
    },
    {
      "cell_type": "code",
      "source": [
        "from google.colab import drive\n",
        "drive.mount('/content/drive')"
      ],
      "metadata": {
        "colab": {
          "base_uri": "https://localhost:8080/"
        },
        "id": "akLcZYT8kAn2",
        "outputId": "f61bc4da-3e8c-455c-b6ba-872c63f609e0"
      },
      "execution_count": 6,
      "outputs": [
        {
          "output_type": "stream",
          "name": "stdout",
          "text": [
            "Mounted at /content/drive\n"
          ]
        }
      ]
    },
    {
      "cell_type": "code",
      "source": [
        "!wget -nc https://raw.githubusercontent.com/brpy/colab-pdf/master/colab_pdf.py\n",
        "from colab_pdf import colab_pdf\n",
        "colab_pdf('IPMV_PRAC_07_5221050.ipynb')"
      ],
      "metadata": {
        "colab": {
          "base_uri": "https://localhost:8080/",
          "height": 556
        },
        "id": "tIBcM7OvkF6E",
        "outputId": "aef503fe-2664-4bcd-f7c9-a4762e649bcd"
      },
      "execution_count": 7,
      "outputs": [
        {
          "output_type": "stream",
          "name": "stdout",
          "text": [
            "--2022-05-08 12:08:23--  https://raw.githubusercontent.com/brpy/colab-pdf/master/colab_pdf.py\n",
            "Resolving raw.githubusercontent.com (raw.githubusercontent.com)... 185.199.109.133, 185.199.110.133, 185.199.111.133, ...\n",
            "Connecting to raw.githubusercontent.com (raw.githubusercontent.com)|185.199.109.133|:443... connected.\n",
            "HTTP request sent, awaiting response... 200 OK\n",
            "Length: 1864 (1.8K) [text/plain]\n",
            "Saving to: ‘colab_pdf.py’\n",
            "\n",
            "\rcolab_pdf.py          0%[                    ]       0  --.-KB/s               \rcolab_pdf.py        100%[===================>]   1.82K  --.-KB/s    in 0s      \n",
            "\n",
            "2022-05-08 12:08:23 (33.5 MB/s) - ‘colab_pdf.py’ saved [1864/1864]\n",
            "\n",
            "\n",
            "WARNING: apt does not have a stable CLI interface. Use with caution in scripts.\n",
            "\n",
            "\n",
            "WARNING: apt does not have a stable CLI interface. Use with caution in scripts.\n",
            "\n",
            "Extracting templates from packages: 100%\n",
            "[NbConvertApp] Converting notebook /content/drive/MyDrive/Colab Notebooks/IPMV_PRAC_07_5221050.ipynb to pdf\n",
            "[NbConvertApp] Support files will be in IPMV_PRAC_07_5221050_files/\n",
            "[NbConvertApp] Making directory ./IPMV_PRAC_07_5221050_files\n",
            "[NbConvertApp] Making directory ./IPMV_PRAC_07_5221050_files\n",
            "[NbConvertApp] Making directory ./IPMV_PRAC_07_5221050_files\n",
            "[NbConvertApp] Writing 32993 bytes to ./notebook.tex\n",
            "[NbConvertApp] Building PDF\n",
            "[NbConvertApp] Running xelatex 3 times: ['xelatex', './notebook.tex', '-quiet']\n",
            "[NbConvertApp] Running bibtex 1 time: ['bibtex', './notebook']\n",
            "[NbConvertApp] WARNING | bibtex had problems, most likely because there were no citations\n",
            "[NbConvertApp] PDF successfully created\n",
            "[NbConvertApp] Writing 54971 bytes to /content/drive/My Drive/IPMV_PRAC_07_5221050.pdf\n"
          ]
        },
        {
          "output_type": "display_data",
          "data": {
            "text/plain": [
              "<IPython.core.display.Javascript object>"
            ],
            "application/javascript": [
              "\n",
              "    async function download(id, filename, size) {\n",
              "      if (!google.colab.kernel.accessAllowed) {\n",
              "        return;\n",
              "      }\n",
              "      const div = document.createElement('div');\n",
              "      const label = document.createElement('label');\n",
              "      label.textContent = `Downloading \"${filename}\": `;\n",
              "      div.appendChild(label);\n",
              "      const progress = document.createElement('progress');\n",
              "      progress.max = size;\n",
              "      div.appendChild(progress);\n",
              "      document.body.appendChild(div);\n",
              "\n",
              "      const buffers = [];\n",
              "      let downloaded = 0;\n",
              "\n",
              "      const channel = await google.colab.kernel.comms.open(id);\n",
              "      // Send a message to notify the kernel that we're ready.\n",
              "      channel.send({})\n",
              "\n",
              "      for await (const message of channel.messages) {\n",
              "        // Send a message to notify the kernel that we're ready.\n",
              "        channel.send({})\n",
              "        if (message.buffers) {\n",
              "          for (const buffer of message.buffers) {\n",
              "            buffers.push(buffer);\n",
              "            downloaded += buffer.byteLength;\n",
              "            progress.value = downloaded;\n",
              "          }\n",
              "        }\n",
              "      }\n",
              "      const blob = new Blob(buffers, {type: 'application/binary'});\n",
              "      const a = document.createElement('a');\n",
              "      a.href = window.URL.createObjectURL(blob);\n",
              "      a.download = filename;\n",
              "      div.appendChild(a);\n",
              "      a.click();\n",
              "      div.remove();\n",
              "    }\n",
              "  "
            ]
          },
          "metadata": {}
        },
        {
          "output_type": "display_data",
          "data": {
            "text/plain": [
              "<IPython.core.display.Javascript object>"
            ],
            "application/javascript": [
              "download(\"download_90aba2c4-2ea9-4f2b-ba46-ccb1a2f19866\", \"IPMV_PRAC_07_5221050.pdf\", 54971)"
            ]
          },
          "metadata": {}
        },
        {
          "output_type": "execute_result",
          "data": {
            "text/plain": [
              "'File ready to be Downloaded and Saved to Drive'"
            ],
            "application/vnd.google.colaboratory.intrinsic+json": {
              "type": "string"
            }
          },
          "metadata": {},
          "execution_count": 7
        }
      ]
    }
  ]
}